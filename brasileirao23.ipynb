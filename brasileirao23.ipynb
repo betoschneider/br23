{
 "cells": [
  {
   "attachments": {},
   "cell_type": "markdown",
   "metadata": {},
   "source": [
    "### Campeonato Brasileiro 2023\n",
    "#### Projeção da classificação final do Campeonato Brasileiro 2023\n",
    "**Mémória de cálculo da projeção**<br>\n",
    "*mpm x prm + mpv x prv*<br>\n",
    "\n",
    "###### **mpm**: média de pontos como mandante;<br>**mpv**: média de pontos como visitante;<br>**prm**: partidas restantes como mandante;<br>**prv**: partidas restantes como visitante.\n"
   ]
  },
  {
   "cell_type": "code",
   "execution_count": 34,
   "metadata": {},
   "outputs": [],
   "source": [
    "#importação das biblioteca\n",
    "import pandas as pd\n",
    "import numpy as np\n",
    "import matplotlib.pyplot as plt\n",
    "import plotly.express as px\n",
    "import plotly.graph_objects as go\n",
    "\n",
    "pd.options.mode.chained_assignment = None\n",
    "\n",
    "#carregando a tabela\n",
    "tabela_completa = pd.read_csv(r'C:\\Users\\DJK8\\OneDrive - PETROBRAS\\ROBERTO_SCHNEIDER_DJK8\\estudos\\br23\\tabela_br23.csv', sep=';')\n",
    "\n",
    "#criando uma cópia para remover as partidas não realizadas\n",
    "tabela = tabela_completa.copy()\n",
    "tabela = tabela.dropna()\n",
    "\n",
    "#numero de rodadas jogadas\n",
    "max_rodada = tabela['rodada'].max()"
   ]
  },
  {
   "cell_type": "code",
   "execution_count": 28,
   "metadata": {},
   "outputs": [],
   "source": [
    "#construindo historico de classificação\n",
    "df_consolidado = None\n",
    "tabela_consolidada = None\n",
    "projecao_consolidada = None\n",
    "\n",
    "for i in range(max_rodada):\n",
    "    rodada = tabela[tabela['rodada']==i+1]\n",
    "\n",
    "    #definindo resultado da partida\n",
    "    rodada['vitoria_mandante'] = rodada.apply(lambda x: 1 if(x['gols_mandante'] > x['gols_visitante']) else 0, axis=1)\n",
    "    rodada['vitoria_visitante'] = rodada.apply(lambda x: 1 if(x['gols_mandante'] < x['gols_visitante']) else 0, axis=1)\n",
    "    rodada['empate'] = rodada.apply(lambda x: 1 if(x['gols_mandante'] == x['gols_visitante']) else 0, axis=1)\n",
    "\n",
    "    #resumo\n",
    "    #jogos como mandante\n",
    "    df_mandante = rodada[['time_mandante', 'gols_mandante', 'gols_visitante', 'vitoria_mandante', 'empate', 'vitoria_visitante']]\n",
    "    df_mandante.columns = ['time', 'gols_marcados_mandante', 'gols_sofridos_mandante', 'vitoria_mandante', 'empate_mandante', 'derrota_mandante']\n",
    "    #total mandante\n",
    "    df_mandante = df_mandante.groupby(by=\"time\").sum().reset_index()\n",
    "    #jogos como visitante\n",
    "    df_visitante = rodada[['time_visitante', 'gols_visitante', 'gols_mandante', 'vitoria_visitante', 'empate', 'vitoria_mandante']]\n",
    "    df_visitante.columns = ['time', 'gols_marcados_visitante', 'gols_sofridos_visitante', 'vitoria_visitante', 'empate_visitante', 'derrota_visitante']\n",
    "    #total visitante\n",
    "    df_visitante = df_visitante.groupby(by=\"time\").sum().reset_index()\n",
    "\n",
    "    #consolidando os dados\n",
    "    df_consolidado = pd.concat([df_consolidado, pd.concat([df_mandante, df_visitante], ignore_index=True)], ignore_index=True)\n",
    "    df_consolidado = df_consolidado.groupby(by=\"time\").sum().reset_index()\n",
    "    #numeros consolidados\n",
    "    df_consolidado['jogos_mandante'] = df_consolidado['vitoria_mandante'] + df_consolidado['empate_mandante'] + df_consolidado['derrota_mandante']\n",
    "    df_consolidado['jogos_visitante'] = df_consolidado['vitoria_visitante'] + df_consolidado['empate_visitante'] + df_consolidado['derrota_visitante']\n",
    "    df_consolidado['jogos_total'] = df_consolidado['jogos_mandante'] + df_consolidado['jogos_visitante']\n",
    "    df_consolidado['vitoria_total'] = df_consolidado['vitoria_mandante'] + df_consolidado['vitoria_visitante']\n",
    "    df_consolidado['empate_total'] = df_consolidado['empate_mandante'] + df_consolidado['empate_visitante']\n",
    "    df_consolidado['derrota_total'] = df_consolidado['derrota_mandante'] + df_consolidado['derrota_visitante']\n",
    "    df_consolidado['pontos_mandante'] = df_consolidado['vitoria_mandante'] * 3 + df_consolidado['empate_mandante']\n",
    "    df_consolidado['media_pontos_mandante'] = df_consolidado['pontos_mandante'] / (df_consolidado['vitoria_mandante'] + df_consolidado['empate_mandante'] + df_consolidado['derrota_mandante'])\n",
    "    df_consolidado['pontos_visitante'] = df_consolidado['vitoria_visitante'] * 3 + df_consolidado['empate_visitante']\n",
    "    df_consolidado['media_pontos_visitante'] = df_consolidado['pontos_visitante'] / (df_consolidado['vitoria_visitante'] + df_consolidado['empate_visitante'] + df_consolidado['derrota_visitante'])\n",
    "    df_consolidado['pontos_total'] = df_consolidado['pontos_mandante'] + df_consolidado['pontos_visitante']\n",
    "    df_consolidado['media_pontos_total'] = df_consolidado['pontos_total'] / (df_consolidado['vitoria_total'] + df_consolidado['empate_total'] + df_consolidado['derrota_total'])\n",
    "    df_consolidado['aproveitamento_mandante'] = df_consolidado['pontos_mandante'] / (df_consolidado['jogos_mandante'] * 3)\n",
    "    df_consolidado['aproveitamento_visitante'] = df_consolidado['pontos_visitante'] / (df_consolidado['jogos_visitante'] * 3)\n",
    "    df_consolidado['aproveitamento_total'] = df_consolidado['pontos_total'] / (df_consolidado['jogos_total'] * 3)\n",
    "    df_consolidado['gols_marcados_total'] = df_consolidado['gols_marcados_mandante'] + df_consolidado['gols_marcados_visitante']\n",
    "    df_consolidado['saldo_gols_mandante'] = df_consolidado['gols_marcados_mandante'] - df_consolidado['gols_sofridos_mandante']\n",
    "    df_consolidado['saldo_gols_visitante'] = df_consolidado['gols_marcados_visitante'] - df_consolidado['gols_sofridos_visitante']\n",
    "    df_consolidado['saldo_gols_total'] = df_consolidado['saldo_gols_mandante'] + df_consolidado['saldo_gols_visitante']\n",
    "    #ordenando a tabela consolidada\n",
    "    df_consolidado.sort_values(by=['pontos_total', 'vitoria_total', 'saldo_gols_total', 'gols_marcados_total'], ascending=False, inplace=True)\n",
    "    df_consolidado = df_consolidado.reset_index().reset_index()\n",
    "    df_consolidado['classificacao'] = df_consolidado['level_0'] + 1\n",
    "    df_consolidado.drop(columns=['level_0', 'index'], inplace=True)\n",
    "\n",
    "    df_consolidado = df_consolidado[['classificacao', 'time', 'pontos_total', 'jogos_total', 'vitoria_total', 'empate_total', 'derrota_total', \n",
    "                                    'gols_marcados_total', 'saldo_gols_total', 'media_pontos_total', 'aproveitamento_total', 'pontos_mandante',\n",
    "                                    'jogos_mandante', 'vitoria_mandante', 'empate_mandante', 'derrota_mandante', 'gols_marcados_mandante', 'gols_sofridos_mandante',\n",
    "                                    'saldo_gols_mandante', 'media_pontos_mandante', 'aproveitamento_mandante', 'pontos_visitante', 'jogos_visitante', 'vitoria_visitante', \n",
    "                                    'empate_visitante', 'derrota_visitante', 'gols_marcados_visitante', 'gols_sofridos_visitante', 'saldo_gols_visitante', \n",
    "                                    'media_pontos_visitante','aproveitamento_visitante']]\n",
    "    \n",
    "    #historico de classificação na tabela consolidada\n",
    "    #tabela_consolidada = pd.concat([tabela_consolidada, df_consolidado], ignore_index=True)\n",
    "\n",
    "    #projecao\n",
    "    df_consolidado['jogos_mandante_restante'] = 19 - df_consolidado['jogos_mandante']\n",
    "    df_consolidado['jogos_visitante_restante'] = 19 - df_consolidado['jogos_visitante']\n",
    "    df_consolidado['pontos_projetados'] = round(df_consolidado['jogos_mandante_restante'] * df_consolidado['media_pontos_mandante'] + df_consolidado['jogos_visitante_restante'] * df_consolidado['media_pontos_visitante'], 0)\n",
    "    df_consolidado['pontos_finais'] = df_consolidado['pontos_projetados'] + df_consolidado['pontos_total']\n",
    "    df_consolidado.sort_values(by='pontos_finais', ascending=False, inplace=True)\n",
    "    df_consolidado = df_consolidado.reset_index().reset_index()\n",
    "    df_consolidado['classificacao'] = df_consolidado['level_0'] + 1\n",
    "    df_consolidado.drop(columns=['level_0', 'index'], inplace=True)\n",
    "    df_consolidado['rodada_projecao'] = i + 1\n",
    "\n",
    "    #historico de classificação na tabela consolidada\n",
    "    tabela_consolidada = pd.concat([tabela_consolidada, df_consolidado], ignore_index=True)\n"
   ]
  },
  {
   "cell_type": "code",
   "execution_count": 36,
   "metadata": {},
   "outputs": [
    {
     "data": {
      "application/vnd.plotly.v1+json": {
       "config": {
        "plotlyServerURL": "https://plot.ly"
       },
       "data": [
        {
         "hovertemplate": "time=Flamengo<br>rodada_projecao=%{x}<br>pontos_finais=%{y}<extra></extra>",
         "legendgroup": "Flamengo",
         "line": {
          "color": "#636efa",
          "dash": "solid"
         },
         "marker": {
          "symbol": "circle"
         },
         "mode": "lines",
         "name": "Flamengo",
         "orientation": "v",
         "showlegend": true,
         "type": "scatter",
         "x": [
          1,
          2,
          3,
          4,
          5,
          6,
          7,
          8,
          9,
          10,
          11,
          12,
          13,
          14,
          15,
          16,
          17,
          18,
          19,
          20,
          21,
          22,
          23,
          24,
          25,
          26,
          27
         ],
         "xaxis": "x",
         "y": [
          null,
          57,
          29,
          29,
          38,
          57,
          62,
          57,
          66,
          70,
          64,
          70,
          72,
          71,
          70,
          66,
          70,
          67,
          65,
          67,
          65,
          68,
          64,
          64,
          66,
          65,
          67
         ],
         "yaxis": "y"
        },
        {
         "hovertemplate": "time=Fluminense<br>rodada_projecao=%{x}<br>pontos_finais=%{y}<extra></extra>",
         "legendgroup": "Fluminense",
         "line": {
          "color": "#EF553B",
          "dash": "solid"
         },
         "marker": {
          "symbol": "circle"
         },
         "mode": "lines",
         "name": "Fluminense",
         "orientation": "v",
         "showlegend": true,
         "type": "scatter",
         "x": [
          1,
          2,
          3,
          4,
          5,
          6,
          7,
          8,
          9,
          10,
          11,
          12,
          13,
          14,
          15,
          16,
          17,
          18,
          19,
          20,
          21,
          22,
          23,
          24,
          25,
          26,
          27
         ],
         "xaxis": "x",
         "y": [
          null,
          114,
          86,
          67,
          76,
          82,
          73,
          67,
          70,
          70,
          64,
          67,
          63,
          65,
          62,
          59,
          61,
          62,
          60,
          61,
          62,
          63,
          61,
          62,
          61,
          57,
          56
         ],
         "yaxis": "y"
        },
        {
         "hovertemplate": "time=Athletico<br>rodada_projecao=%{x}<br>pontos_finais=%{y}<extra></extra>",
         "legendgroup": "Athletico",
         "line": {
          "color": "#00cc96",
          "dash": "solid"
         },
         "marker": {
          "symbol": "circle"
         },
         "mode": "lines",
         "name": "Athletico",
         "orientation": "v",
         "showlegend": true,
         "type": "scatter",
         "x": [
          1,
          2,
          3,
          4,
          5,
          6,
          7,
          8,
          9,
          10,
          11,
          12,
          13,
          14,
          15,
          16,
          17,
          18,
          19,
          20,
          21,
          22,
          23,
          24,
          25,
          26,
          27
         ],
         "xaxis": "x",
         "y": [
          null,
          57,
          57,
          57,
          76,
          76,
          71,
          57,
          60,
          61,
          58,
          60,
          56,
          54,
          56,
          62,
          59,
          59,
          61,
          61,
          59,
          57,
          60,
          62,
          60,
          58,
          61
         ],
         "yaxis": "y"
        },
        {
         "hovertemplate": "time=Botafogo<br>rodada_projecao=%{x}<br>pontos_finais=%{y}<extra></extra>",
         "legendgroup": "Botafogo",
         "line": {
          "color": "#ab63fa",
          "dash": "solid"
         },
         "marker": {
          "symbol": "circle"
         },
         "mode": "lines",
         "name": "Botafogo",
         "orientation": "v",
         "showlegend": true,
         "type": "scatter",
         "x": [
          1,
          2,
          3,
          4,
          5,
          6,
          7,
          8,
          9,
          10,
          11,
          12,
          13,
          14,
          15,
          16,
          17,
          18,
          19,
          20,
          21,
          22,
          23,
          24,
          25,
          26,
          27
         ],
         "xaxis": "x",
         "y": [
          null,
          114,
          114,
          114,
          114,
          95,
          95,
          95,
          85,
          86,
          91,
          95,
          95,
          98,
          98,
          95,
          95,
          93,
          93,
          91,
          91,
          86,
          83,
          81,
          78,
          80,
          82
         ],
         "yaxis": "y"
        },
        {
         "hovertemplate": "time=Corinthians<br>rodada_projecao=%{x}<br>pontos_finais=%{y}<extra></extra>",
         "legendgroup": "Corinthians",
         "line": {
          "color": "#FFA15A",
          "dash": "solid"
         },
         "marker": {
          "symbol": "circle"
         },
         "mode": "lines",
         "name": "Corinthians",
         "orientation": "v",
         "showlegend": true,
         "type": "scatter",
         "x": [
          1,
          2,
          3,
          4,
          5,
          6,
          7,
          8,
          9,
          10,
          11,
          12,
          13,
          14,
          15,
          16,
          17,
          18,
          19,
          20,
          21,
          22,
          23,
          24,
          25,
          26,
          27
         ],
         "xaxis": "x",
         "y": [
          null,
          57,
          57,
          38,
          38,
          32,
          32,
          38,
          38,
          34,
          44,
          42,
          37,
          43,
          41,
          42,
          46,
          46,
          49,
          49,
          48,
          47,
          45,
          48,
          46,
          45,
          46
         ],
         "yaxis": "y"
        },
        {
         "hovertemplate": "time=Palmeiras<br>rodada_projecao=%{x}<br>pontos_finais=%{y}<extra></extra>",
         "legendgroup": "Palmeiras",
         "line": {
          "color": "#19d3f3",
          "dash": "solid"
         },
         "marker": {
          "symbol": "circle"
         },
         "mode": "lines",
         "name": "Palmeiras",
         "orientation": "v",
         "showlegend": true,
         "type": "scatter",
         "x": [
          1,
          2,
          3,
          4,
          5,
          6,
          7,
          8,
          9,
          10,
          11,
          12,
          13,
          14,
          15,
          16,
          17,
          18,
          19,
          20,
          21,
          22,
          23,
          24,
          25,
          26,
          27
         ],
         "xaxis": "x",
         "y": [
          null,
          76,
          76,
          95,
          95,
          86,
          79,
          76,
          78,
          84,
          78,
          70,
          68,
          65,
          64,
          66,
          70,
          67,
          69,
          72,
          73,
          72,
          73,
          71,
          69,
          66,
          62
         ],
         "yaxis": "y"
        },
        {
         "hovertemplate": "time=Red Bull Bragantino<br>rodada_projecao=%{x}<br>pontos_finais=%{y}<extra></extra>",
         "legendgroup": "Red Bull Bragantino",
         "line": {
          "color": "#FF6692",
          "dash": "solid"
         },
         "marker": {
          "symbol": "circle"
         },
         "mode": "lines",
         "name": "Red Bull Bragantino",
         "orientation": "v",
         "showlegend": true,
         "type": "scatter",
         "x": [
          1,
          2,
          3,
          4,
          5,
          6,
          7,
          8,
          9,
          10,
          11,
          12,
          13,
          14,
          15,
          16,
          17,
          18,
          19,
          20,
          21,
          22,
          23,
          24,
          25,
          26,
          27
         ],
         "xaxis": "x",
         "y": [
          null,
          76,
          48,
          47,
          44,
          44,
          52,
          57,
          52,
          53,
          56,
          59,
          66,
          63,
          59,
          57,
          62,
          65,
          64,
          61,
          63,
          62,
          64,
          66,
          68,
          67,
          69
         ],
         "yaxis": "y"
        },
        {
         "hovertemplate": "time=Vasco da Gama<br>rodada_projecao=%{x}<br>pontos_finais=%{y}<extra></extra>",
         "legendgroup": "Vasco da Gama",
         "line": {
          "color": "#B6E880",
          "dash": "solid"
         },
         "marker": {
          "symbol": "circle"
         },
         "mode": "lines",
         "name": "Vasco da Gama",
         "orientation": "v",
         "showlegend": true,
         "type": "scatter",
         "x": [
          1,
          2,
          3,
          4,
          5,
          6,
          7,
          8,
          9,
          10,
          11,
          12,
          13,
          14,
          15,
          16,
          17,
          18,
          19,
          20,
          21,
          22,
          23,
          24,
          25,
          26,
          27
         ],
         "xaxis": "x",
         "y": [
          null,
          76,
          66,
          47,
          41,
          38,
          30,
          25,
          24,
          21,
          20,
          29,
          26,
          24,
          30,
          28,
          26,
          32,
          32,
          36,
          35,
          35,
          38,
          41,
          40,
          39,
          42
         ],
         "yaxis": "y"
        },
        {
         "hovertemplate": "time=Grêmio<br>rodada_projecao=%{x}<br>pontos_finais=%{y}<extra></extra>",
         "legendgroup": "Grêmio",
         "line": {
          "color": "#FF97FF",
          "dash": "solid"
         },
         "marker": {
          "symbol": "circle"
         },
         "mode": "lines",
         "name": "Grêmio",
         "orientation": "v",
         "showlegend": true,
         "type": "scatter",
         "x": [
          1,
          2,
          3,
          4,
          5,
          6,
          7,
          8,
          9,
          10,
          11,
          12,
          13,
          14,
          15,
          16,
          17,
          18,
          19,
          20,
          21,
          22,
          23,
          24,
          25,
          26,
          27
         ],
         "xaxis": "x",
         "y": [
          null,
          57,
          86,
          67,
          57,
          51,
          57,
          66,
          70,
          65,
          67,
          69,
          75,
          69,
          68,
          69,
          68,
          65,
          67,
          65,
          66,
          67,
          65,
          66,
          66,
          64,
          61
         ],
         "yaxis": "y"
        },
        {
         "hovertemplate": "time=Fortaleza<br>rodada_projecao=%{x}<br>pontos_finais=%{y}<extra></extra>",
         "legendgroup": "Fortaleza",
         "line": {
          "color": "#FECB52",
          "dash": "solid"
         },
         "marker": {
          "symbol": "circle"
         },
         "mode": "lines",
         "name": "Fortaleza",
         "orientation": "v",
         "showlegend": true,
         "type": "scatter",
         "x": [
          1,
          2,
          3,
          4,
          5,
          6,
          7,
          8,
          9,
          10,
          11,
          12,
          13,
          14,
          15,
          16,
          17,
          18,
          19,
          20,
          21,
          22,
          23,
          24,
          25,
          26,
          27
         ],
         "xaxis": "x",
         "y": [
          null,
          76,
          95,
          76,
          70,
          63,
          55,
          62,
          58,
          53,
          60,
          63,
          60,
          62,
          57,
          55,
          51,
          49,
          51,
          55,
          57,
          55,
          57,
          60,
          59,
          60,
          58
         ],
         "yaxis": "y"
        },
        {
         "hovertemplate": "time=Internacional<br>rodada_projecao=%{x}<br>pontos_finais=%{y}<extra></extra>",
         "legendgroup": "Internacional",
         "line": {
          "color": "#636efa",
          "dash": "solid"
         },
         "marker": {
          "symbol": "circle"
         },
         "mode": "lines",
         "name": "Internacional",
         "orientation": "v",
         "showlegend": true,
         "type": "scatter",
         "x": [
          1,
          2,
          3,
          4,
          5,
          6,
          7,
          8,
          9,
          10,
          11,
          12,
          13,
          14,
          15,
          16,
          17,
          18,
          19,
          20,
          21,
          22,
          23,
          24,
          25,
          26,
          27
         ],
         "xaxis": "x",
         "y": [
          null,
          76,
          76,
          67,
          47,
          44,
          43,
          48,
          50,
          53,
          61,
          67,
          63,
          60,
          57,
          57,
          52,
          51,
          49,
          46,
          46,
          46,
          49,
          47,
          45,
          47,
          46
         ],
         "yaxis": "y"
        },
        {
         "hovertemplate": "time=Atlético<br>rodada_projecao=%{x}<br>pontos_finais=%{y}<extra></extra>",
         "legendgroup": "Atlético",
         "line": {
          "color": "#EF553B",
          "dash": "solid"
         },
         "marker": {
          "symbol": "circle"
         },
         "mode": "lines",
         "name": "Atlético",
         "orientation": "v",
         "showlegend": true,
         "type": "scatter",
         "x": [
          1,
          2,
          3,
          4,
          5,
          6,
          7,
          8,
          9,
          10,
          11,
          12,
          13,
          14,
          15,
          16,
          17,
          18,
          19,
          20,
          21,
          22,
          23,
          24,
          25,
          26,
          27
         ],
         "xaxis": "x",
         "y": [
          null,
          19,
          48,
          38,
          54,
          63,
          71,
          66,
          71,
          68,
          65,
          60,
          58,
          54,
          53,
          50,
          47,
          50,
          54,
          51,
          54,
          54,
          56,
          59,
          61,
          58,
          61
         ],
         "yaxis": "y"
        },
        {
         "hovertemplate": "time=Bahia<br>rodada_projecao=%{x}<br>pontos_finais=%{y}<extra></extra>",
         "legendgroup": "Bahia",
         "line": {
          "color": "#00cc96",
          "dash": "solid"
         },
         "marker": {
          "symbol": "circle"
         },
         "mode": "lines",
         "name": "Bahia",
         "orientation": "v",
         "showlegend": true,
         "type": "scatter",
         "x": [
          1,
          2,
          3,
          4,
          5,
          6,
          7,
          8,
          9,
          10,
          11,
          12,
          13,
          14,
          15,
          16,
          17,
          18,
          19,
          20,
          21,
          22,
          23,
          24,
          25,
          26,
          27
         ],
         "xaxis": "x",
         "y": [
          null,
          0,
          29,
          57,
          48,
          38,
          38,
          33,
          34,
          34,
          41,
          38,
          34,
          35,
          34,
          33,
          34,
          38,
          37,
          40,
          39,
          38,
          42,
          40,
          38,
          42,
          44
         ],
         "yaxis": "y"
        },
        {
         "hovertemplate": "time=Cruzeiro<br>rodada_projecao=%{x}<br>pontos_finais=%{y}<extra></extra>",
         "legendgroup": "Cruzeiro",
         "line": {
          "color": "#ab63fa",
          "dash": "solid"
         },
         "marker": {
          "symbol": "circle"
         },
         "mode": "lines",
         "name": "Cruzeiro",
         "orientation": "v",
         "showlegend": true,
         "type": "scatter",
         "x": [
          1,
          2,
          3,
          4,
          5,
          6,
          7,
          8,
          9,
          10,
          11,
          12,
          13,
          14,
          15,
          16,
          17,
          18,
          19,
          20,
          21,
          22,
          23,
          24,
          25,
          26,
          27
         ],
         "xaxis": "x",
         "y": [
          null,
          57,
          86,
          85,
          67,
          76,
          66,
          62,
          56,
          53,
          49,
          55,
          53,
          57,
          56,
          54,
          52,
          52,
          48,
          48,
          45,
          45,
          48,
          46,
          46,
          45,
          44
         ],
         "yaxis": "y"
        },
        {
         "hovertemplate": "time=Cuiabá<br>rodada_projecao=%{x}<br>pontos_finais=%{y}<extra></extra>",
         "legendgroup": "Cuiabá",
         "line": {
          "color": "#FFA15A",
          "dash": "solid"
         },
         "marker": {
          "symbol": "circle"
         },
         "mode": "lines",
         "name": "Cuiabá",
         "orientation": "v",
         "showlegend": true,
         "type": "scatter",
         "x": [
          1,
          2,
          3,
          4,
          5,
          6,
          7,
          8,
          9,
          10,
          11,
          12,
          13,
          14,
          15,
          16,
          17,
          18,
          19,
          20,
          21,
          22,
          23,
          24,
          25,
          26,
          27
         ],
         "xaxis": "x",
         "y": [
          null,
          19,
          9,
          38,
          35,
          25,
          35,
          38,
          44,
          41,
          39,
          35,
          43,
          43,
          47,
          52,
          55,
          59,
          56,
          53,
          50,
          48,
          48,
          46,
          49,
          48,
          51
         ],
         "yaxis": "y"
        },
        {
         "hovertemplate": "time=São Paulo<br>rodada_projecao=%{x}<br>pontos_finais=%{y}<extra></extra>",
         "legendgroup": "São Paulo",
         "line": {
          "color": "#19d3f3",
          "dash": "solid"
         },
         "marker": {
          "symbol": "circle"
         },
         "mode": "lines",
         "name": "São Paulo",
         "orientation": "v",
         "showlegend": true,
         "type": "scatter",
         "x": [
          1,
          2,
          3,
          4,
          5,
          6,
          7,
          8,
          9,
          10,
          11,
          12,
          13,
          14,
          15,
          16,
          17,
          18,
          19,
          20,
          21,
          22,
          23,
          24,
          25,
          26,
          27
         ],
         "xaxis": "x",
         "y": [
          null,
          57,
          66,
          67,
          70,
          71,
          71,
          71,
          68,
          57,
          59,
          57,
          58,
          60,
          61,
          59,
          56,
          51,
          52,
          50,
          49,
          51,
          50,
          47,
          48,
          49,
          48
         ],
         "yaxis": "y"
        },
        {
         "hovertemplate": "time=Santos<br>rodada_projecao=%{x}<br>pontos_finais=%{y}<extra></extra>",
         "legendgroup": "Santos",
         "line": {
          "color": "#FF6692",
          "dash": "solid"
         },
         "marker": {
          "symbol": "circle"
         },
         "mode": "lines",
         "name": "Santos",
         "orientation": "v",
         "showlegend": true,
         "type": "scatter",
         "x": [
          1,
          2,
          3,
          4,
          5,
          6,
          7,
          8,
          9,
          10,
          11,
          12,
          13,
          14,
          15,
          16,
          17,
          18,
          19,
          20,
          21,
          22,
          23,
          24,
          25,
          26,
          27
         ],
         "xaxis": "x",
         "y": [
          null,
          19,
          38,
          38,
          44,
          63,
          57,
          52,
          48,
          49,
          44,
          40,
          37,
          41,
          39,
          38,
          37,
          36,
          35,
          38,
          37,
          36,
          34,
          38,
          40,
          44,
          42
         ],
         "yaxis": "y"
        },
        {
         "hovertemplate": "time=Goiás<br>rodada_projecao=%{x}<br>pontos_finais=%{y}<extra></extra>",
         "legendgroup": "Goiás",
         "line": {
          "color": "#B6E880",
          "dash": "solid"
         },
         "marker": {
          "symbol": "circle"
         },
         "mode": "lines",
         "name": "Goiás",
         "orientation": "v",
         "showlegend": true,
         "type": "scatter",
         "x": [
          1,
          2,
          3,
          4,
          5,
          6,
          7,
          8,
          9,
          10,
          11,
          12,
          13,
          14,
          15,
          16,
          17,
          18,
          19,
          20,
          21,
          22,
          23,
          24,
          25,
          26,
          27
         ],
         "xaxis": "x",
         "y": [
          null,
          57,
          57,
          29,
          29,
          38,
          43,
          42,
          32,
          30,
          39,
          37,
          33,
          32,
          31,
          36,
          36,
          40,
          44,
          44,
          44,
          43,
          42,
          41,
          41,
          39,
          42
         ],
         "yaxis": "y"
        },
        {
         "hovertemplate": "time=América<br>rodada_projecao=%{x}<br>pontos_finais=%{y}<extra></extra>",
         "legendgroup": "América",
         "line": {
          "color": "#FF97FF",
          "dash": "solid"
         },
         "marker": {
          "symbol": "circle"
         },
         "mode": "lines",
         "name": "América",
         "orientation": "v",
         "showlegend": true,
         "type": "scatter",
         "x": [
          1,
          2,
          3,
          4,
          5,
          6,
          7,
          8,
          9,
          10,
          11,
          12,
          13,
          14,
          15,
          16,
          17,
          18,
          19,
          20,
          21,
          22,
          23,
          24,
          25,
          26,
          27
         ],
         "xaxis": "x",
         "y": [
          null,
          0,
          0,
          0,
          6,
          6,
          21,
          19,
          28,
          27,
          26,
          23,
          25,
          24,
          22,
          24,
          22,
          21,
          20,
          19,
          23,
          26,
          27,
          26,
          27,
          26,
          25
         ],
         "yaxis": "y"
        },
        {
         "hovertemplate": "time=Coritiba<br>rodada_projecao=%{x}<br>pontos_finais=%{y}<extra></extra>",
         "legendgroup": "Coritiba",
         "line": {
          "color": "#FECB52",
          "dash": "solid"
         },
         "marker": {
          "symbol": "circle"
         },
         "mode": "lines",
         "name": "Coritiba",
         "orientation": "v",
         "showlegend": true,
         "type": "scatter",
         "x": [
          1,
          2,
          3,
          4,
          5,
          6,
          7,
          8,
          9,
          10,
          11,
          12,
          13,
          14,
          15,
          16,
          17,
          18,
          19,
          20,
          21,
          22,
          23,
          24,
          25,
          26,
          27
         ],
         "xaxis": "x",
         "y": [
          null,
          0,
          9,
          9,
          13,
          13,
          10,
          14,
          13,
          15,
          13,
          13,
          20,
          27,
          28,
          33,
          32,
          30,
          28,
          27,
          26,
          25,
          23,
          23,
          26,
          30,
          28
         ],
         "yaxis": "y"
        }
       ],
       "layout": {
        "legend": {
         "title": {
          "text": "time"
         },
         "tracegroupgap": 0
        },
        "template": {
         "data": {
          "bar": [
           {
            "error_x": {
             "color": "#2a3f5f"
            },
            "error_y": {
             "color": "#2a3f5f"
            },
            "marker": {
             "line": {
              "color": "#E5ECF6",
              "width": 0.5
             },
             "pattern": {
              "fillmode": "overlay",
              "size": 10,
              "solidity": 0.2
             }
            },
            "type": "bar"
           }
          ],
          "barpolar": [
           {
            "marker": {
             "line": {
              "color": "#E5ECF6",
              "width": 0.5
             },
             "pattern": {
              "fillmode": "overlay",
              "size": 10,
              "solidity": 0.2
             }
            },
            "type": "barpolar"
           }
          ],
          "carpet": [
           {
            "aaxis": {
             "endlinecolor": "#2a3f5f",
             "gridcolor": "white",
             "linecolor": "white",
             "minorgridcolor": "white",
             "startlinecolor": "#2a3f5f"
            },
            "baxis": {
             "endlinecolor": "#2a3f5f",
             "gridcolor": "white",
             "linecolor": "white",
             "minorgridcolor": "white",
             "startlinecolor": "#2a3f5f"
            },
            "type": "carpet"
           }
          ],
          "choropleth": [
           {
            "colorbar": {
             "outlinewidth": 0,
             "ticks": ""
            },
            "type": "choropleth"
           }
          ],
          "contour": [
           {
            "colorbar": {
             "outlinewidth": 0,
             "ticks": ""
            },
            "colorscale": [
             [
              0,
              "#0d0887"
             ],
             [
              0.1111111111111111,
              "#46039f"
             ],
             [
              0.2222222222222222,
              "#7201a8"
             ],
             [
              0.3333333333333333,
              "#9c179e"
             ],
             [
              0.4444444444444444,
              "#bd3786"
             ],
             [
              0.5555555555555556,
              "#d8576b"
             ],
             [
              0.6666666666666666,
              "#ed7953"
             ],
             [
              0.7777777777777778,
              "#fb9f3a"
             ],
             [
              0.8888888888888888,
              "#fdca26"
             ],
             [
              1,
              "#f0f921"
             ]
            ],
            "type": "contour"
           }
          ],
          "contourcarpet": [
           {
            "colorbar": {
             "outlinewidth": 0,
             "ticks": ""
            },
            "type": "contourcarpet"
           }
          ],
          "heatmap": [
           {
            "colorbar": {
             "outlinewidth": 0,
             "ticks": ""
            },
            "colorscale": [
             [
              0,
              "#0d0887"
             ],
             [
              0.1111111111111111,
              "#46039f"
             ],
             [
              0.2222222222222222,
              "#7201a8"
             ],
             [
              0.3333333333333333,
              "#9c179e"
             ],
             [
              0.4444444444444444,
              "#bd3786"
             ],
             [
              0.5555555555555556,
              "#d8576b"
             ],
             [
              0.6666666666666666,
              "#ed7953"
             ],
             [
              0.7777777777777778,
              "#fb9f3a"
             ],
             [
              0.8888888888888888,
              "#fdca26"
             ],
             [
              1,
              "#f0f921"
             ]
            ],
            "type": "heatmap"
           }
          ],
          "heatmapgl": [
           {
            "colorbar": {
             "outlinewidth": 0,
             "ticks": ""
            },
            "colorscale": [
             [
              0,
              "#0d0887"
             ],
             [
              0.1111111111111111,
              "#46039f"
             ],
             [
              0.2222222222222222,
              "#7201a8"
             ],
             [
              0.3333333333333333,
              "#9c179e"
             ],
             [
              0.4444444444444444,
              "#bd3786"
             ],
             [
              0.5555555555555556,
              "#d8576b"
             ],
             [
              0.6666666666666666,
              "#ed7953"
             ],
             [
              0.7777777777777778,
              "#fb9f3a"
             ],
             [
              0.8888888888888888,
              "#fdca26"
             ],
             [
              1,
              "#f0f921"
             ]
            ],
            "type": "heatmapgl"
           }
          ],
          "histogram": [
           {
            "marker": {
             "pattern": {
              "fillmode": "overlay",
              "size": 10,
              "solidity": 0.2
             }
            },
            "type": "histogram"
           }
          ],
          "histogram2d": [
           {
            "colorbar": {
             "outlinewidth": 0,
             "ticks": ""
            },
            "colorscale": [
             [
              0,
              "#0d0887"
             ],
             [
              0.1111111111111111,
              "#46039f"
             ],
             [
              0.2222222222222222,
              "#7201a8"
             ],
             [
              0.3333333333333333,
              "#9c179e"
             ],
             [
              0.4444444444444444,
              "#bd3786"
             ],
             [
              0.5555555555555556,
              "#d8576b"
             ],
             [
              0.6666666666666666,
              "#ed7953"
             ],
             [
              0.7777777777777778,
              "#fb9f3a"
             ],
             [
              0.8888888888888888,
              "#fdca26"
             ],
             [
              1,
              "#f0f921"
             ]
            ],
            "type": "histogram2d"
           }
          ],
          "histogram2dcontour": [
           {
            "colorbar": {
             "outlinewidth": 0,
             "ticks": ""
            },
            "colorscale": [
             [
              0,
              "#0d0887"
             ],
             [
              0.1111111111111111,
              "#46039f"
             ],
             [
              0.2222222222222222,
              "#7201a8"
             ],
             [
              0.3333333333333333,
              "#9c179e"
             ],
             [
              0.4444444444444444,
              "#bd3786"
             ],
             [
              0.5555555555555556,
              "#d8576b"
             ],
             [
              0.6666666666666666,
              "#ed7953"
             ],
             [
              0.7777777777777778,
              "#fb9f3a"
             ],
             [
              0.8888888888888888,
              "#fdca26"
             ],
             [
              1,
              "#f0f921"
             ]
            ],
            "type": "histogram2dcontour"
           }
          ],
          "mesh3d": [
           {
            "colorbar": {
             "outlinewidth": 0,
             "ticks": ""
            },
            "type": "mesh3d"
           }
          ],
          "parcoords": [
           {
            "line": {
             "colorbar": {
              "outlinewidth": 0,
              "ticks": ""
             }
            },
            "type": "parcoords"
           }
          ],
          "pie": [
           {
            "automargin": true,
            "type": "pie"
           }
          ],
          "scatter": [
           {
            "fillpattern": {
             "fillmode": "overlay",
             "size": 10,
             "solidity": 0.2
            },
            "type": "scatter"
           }
          ],
          "scatter3d": [
           {
            "line": {
             "colorbar": {
              "outlinewidth": 0,
              "ticks": ""
             }
            },
            "marker": {
             "colorbar": {
              "outlinewidth": 0,
              "ticks": ""
             }
            },
            "type": "scatter3d"
           }
          ],
          "scattercarpet": [
           {
            "marker": {
             "colorbar": {
              "outlinewidth": 0,
              "ticks": ""
             }
            },
            "type": "scattercarpet"
           }
          ],
          "scattergeo": [
           {
            "marker": {
             "colorbar": {
              "outlinewidth": 0,
              "ticks": ""
             }
            },
            "type": "scattergeo"
           }
          ],
          "scattergl": [
           {
            "marker": {
             "colorbar": {
              "outlinewidth": 0,
              "ticks": ""
             }
            },
            "type": "scattergl"
           }
          ],
          "scattermapbox": [
           {
            "marker": {
             "colorbar": {
              "outlinewidth": 0,
              "ticks": ""
             }
            },
            "type": "scattermapbox"
           }
          ],
          "scatterpolar": [
           {
            "marker": {
             "colorbar": {
              "outlinewidth": 0,
              "ticks": ""
             }
            },
            "type": "scatterpolar"
           }
          ],
          "scatterpolargl": [
           {
            "marker": {
             "colorbar": {
              "outlinewidth": 0,
              "ticks": ""
             }
            },
            "type": "scatterpolargl"
           }
          ],
          "scatterternary": [
           {
            "marker": {
             "colorbar": {
              "outlinewidth": 0,
              "ticks": ""
             }
            },
            "type": "scatterternary"
           }
          ],
          "surface": [
           {
            "colorbar": {
             "outlinewidth": 0,
             "ticks": ""
            },
            "colorscale": [
             [
              0,
              "#0d0887"
             ],
             [
              0.1111111111111111,
              "#46039f"
             ],
             [
              0.2222222222222222,
              "#7201a8"
             ],
             [
              0.3333333333333333,
              "#9c179e"
             ],
             [
              0.4444444444444444,
              "#bd3786"
             ],
             [
              0.5555555555555556,
              "#d8576b"
             ],
             [
              0.6666666666666666,
              "#ed7953"
             ],
             [
              0.7777777777777778,
              "#fb9f3a"
             ],
             [
              0.8888888888888888,
              "#fdca26"
             ],
             [
              1,
              "#f0f921"
             ]
            ],
            "type": "surface"
           }
          ],
          "table": [
           {
            "cells": {
             "fill": {
              "color": "#EBF0F8"
             },
             "line": {
              "color": "white"
             }
            },
            "header": {
             "fill": {
              "color": "#C8D4E3"
             },
             "line": {
              "color": "white"
             }
            },
            "type": "table"
           }
          ]
         },
         "layout": {
          "annotationdefaults": {
           "arrowcolor": "#2a3f5f",
           "arrowhead": 0,
           "arrowwidth": 1
          },
          "autotypenumbers": "strict",
          "coloraxis": {
           "colorbar": {
            "outlinewidth": 0,
            "ticks": ""
           }
          },
          "colorscale": {
           "diverging": [
            [
             0,
             "#8e0152"
            ],
            [
             0.1,
             "#c51b7d"
            ],
            [
             0.2,
             "#de77ae"
            ],
            [
             0.3,
             "#f1b6da"
            ],
            [
             0.4,
             "#fde0ef"
            ],
            [
             0.5,
             "#f7f7f7"
            ],
            [
             0.6,
             "#e6f5d0"
            ],
            [
             0.7,
             "#b8e186"
            ],
            [
             0.8,
             "#7fbc41"
            ],
            [
             0.9,
             "#4d9221"
            ],
            [
             1,
             "#276419"
            ]
           ],
           "sequential": [
            [
             0,
             "#0d0887"
            ],
            [
             0.1111111111111111,
             "#46039f"
            ],
            [
             0.2222222222222222,
             "#7201a8"
            ],
            [
             0.3333333333333333,
             "#9c179e"
            ],
            [
             0.4444444444444444,
             "#bd3786"
            ],
            [
             0.5555555555555556,
             "#d8576b"
            ],
            [
             0.6666666666666666,
             "#ed7953"
            ],
            [
             0.7777777777777778,
             "#fb9f3a"
            ],
            [
             0.8888888888888888,
             "#fdca26"
            ],
            [
             1,
             "#f0f921"
            ]
           ],
           "sequentialminus": [
            [
             0,
             "#0d0887"
            ],
            [
             0.1111111111111111,
             "#46039f"
            ],
            [
             0.2222222222222222,
             "#7201a8"
            ],
            [
             0.3333333333333333,
             "#9c179e"
            ],
            [
             0.4444444444444444,
             "#bd3786"
            ],
            [
             0.5555555555555556,
             "#d8576b"
            ],
            [
             0.6666666666666666,
             "#ed7953"
            ],
            [
             0.7777777777777778,
             "#fb9f3a"
            ],
            [
             0.8888888888888888,
             "#fdca26"
            ],
            [
             1,
             "#f0f921"
            ]
           ]
          },
          "colorway": [
           "#636efa",
           "#EF553B",
           "#00cc96",
           "#ab63fa",
           "#FFA15A",
           "#19d3f3",
           "#FF6692",
           "#B6E880",
           "#FF97FF",
           "#FECB52"
          ],
          "font": {
           "color": "#2a3f5f"
          },
          "geo": {
           "bgcolor": "white",
           "lakecolor": "white",
           "landcolor": "#E5ECF6",
           "showlakes": true,
           "showland": true,
           "subunitcolor": "white"
          },
          "hoverlabel": {
           "align": "left"
          },
          "hovermode": "closest",
          "mapbox": {
           "style": "light"
          },
          "paper_bgcolor": "white",
          "plot_bgcolor": "#E5ECF6",
          "polar": {
           "angularaxis": {
            "gridcolor": "white",
            "linecolor": "white",
            "ticks": ""
           },
           "bgcolor": "#E5ECF6",
           "radialaxis": {
            "gridcolor": "white",
            "linecolor": "white",
            "ticks": ""
           }
          },
          "scene": {
           "xaxis": {
            "backgroundcolor": "#E5ECF6",
            "gridcolor": "white",
            "gridwidth": 2,
            "linecolor": "white",
            "showbackground": true,
            "ticks": "",
            "zerolinecolor": "white"
           },
           "yaxis": {
            "backgroundcolor": "#E5ECF6",
            "gridcolor": "white",
            "gridwidth": 2,
            "linecolor": "white",
            "showbackground": true,
            "ticks": "",
            "zerolinecolor": "white"
           },
           "zaxis": {
            "backgroundcolor": "#E5ECF6",
            "gridcolor": "white",
            "gridwidth": 2,
            "linecolor": "white",
            "showbackground": true,
            "ticks": "",
            "zerolinecolor": "white"
           }
          },
          "shapedefaults": {
           "line": {
            "color": "#2a3f5f"
           }
          },
          "ternary": {
           "aaxis": {
            "gridcolor": "white",
            "linecolor": "white",
            "ticks": ""
           },
           "baxis": {
            "gridcolor": "white",
            "linecolor": "white",
            "ticks": ""
           },
           "bgcolor": "#E5ECF6",
           "caxis": {
            "gridcolor": "white",
            "linecolor": "white",
            "ticks": ""
           }
          },
          "title": {
           "x": 0.05
          },
          "xaxis": {
           "automargin": true,
           "gridcolor": "white",
           "linecolor": "white",
           "ticks": "",
           "title": {
            "standoff": 15
           },
           "zerolinecolor": "white",
           "zerolinewidth": 2
          },
          "yaxis": {
           "automargin": true,
           "gridcolor": "white",
           "linecolor": "white",
           "ticks": "",
           "title": {
            "standoff": 15
           },
           "zerolinecolor": "white",
           "zerolinewidth": 2
          }
         }
        },
        "title": {
         "text": "Projeção final rodada a rodada"
        },
        "xaxis": {
         "anchor": "y",
         "domain": [
          0,
          1
         ],
         "title": {
          "text": "rodada_projecao"
         }
        },
        "yaxis": {
         "anchor": "x",
         "domain": [
          0,
          1
         ],
         "title": {
          "text": "pontos_finais"
         }
        }
       }
      }
     },
     "metadata": {},
     "output_type": "display_data"
    }
   ],
   "source": [
    "#grafico\n",
    "px.line(tabela_consolidada, x='rodada_projecao', y='pontos_finais', color='time', title='Projeção final rodada a rodada')"
   ]
  },
  {
   "cell_type": "code",
   "execution_count": 40,
   "metadata": {},
   "outputs": [
    {
     "data": {
      "text/html": [
       "<div>\n",
       "<style scoped>\n",
       "    .dataframe tbody tr th:only-of-type {\n",
       "        vertical-align: middle;\n",
       "    }\n",
       "\n",
       "    .dataframe tbody tr th {\n",
       "        vertical-align: top;\n",
       "    }\n",
       "\n",
       "    .dataframe thead th {\n",
       "        text-align: right;\n",
       "    }\n",
       "</style>\n",
       "<table border=\"1\" class=\"dataframe\">\n",
       "  <thead>\n",
       "    <tr style=\"text-align: right;\">\n",
       "      <th></th>\n",
       "      <th>classificacao</th>\n",
       "      <th>time</th>\n",
       "      <th>pontos_finais</th>\n",
       "    </tr>\n",
       "  </thead>\n",
       "  <tbody>\n",
       "    <tr>\n",
       "      <th>520</th>\n",
       "      <td>1</td>\n",
       "      <td>Botafogo</td>\n",
       "      <td>82.0</td>\n",
       "    </tr>\n",
       "    <tr>\n",
       "      <th>521</th>\n",
       "      <td>2</td>\n",
       "      <td>Red Bull Bragantino</td>\n",
       "      <td>69.0</td>\n",
       "    </tr>\n",
       "    <tr>\n",
       "      <th>522</th>\n",
       "      <td>3</td>\n",
       "      <td>Flamengo</td>\n",
       "      <td>67.0</td>\n",
       "    </tr>\n",
       "    <tr>\n",
       "      <th>523</th>\n",
       "      <td>4</td>\n",
       "      <td>Palmeiras</td>\n",
       "      <td>62.0</td>\n",
       "    </tr>\n",
       "    <tr>\n",
       "      <th>524</th>\n",
       "      <td>5</td>\n",
       "      <td>Grêmio</td>\n",
       "      <td>61.0</td>\n",
       "    </tr>\n",
       "    <tr>\n",
       "      <th>525</th>\n",
       "      <td>6</td>\n",
       "      <td>Athletico</td>\n",
       "      <td>61.0</td>\n",
       "    </tr>\n",
       "    <tr>\n",
       "      <th>526</th>\n",
       "      <td>7</td>\n",
       "      <td>Atlético</td>\n",
       "      <td>61.0</td>\n",
       "    </tr>\n",
       "    <tr>\n",
       "      <th>527</th>\n",
       "      <td>8</td>\n",
       "      <td>Fortaleza</td>\n",
       "      <td>58.0</td>\n",
       "    </tr>\n",
       "    <tr>\n",
       "      <th>528</th>\n",
       "      <td>9</td>\n",
       "      <td>Fluminense</td>\n",
       "      <td>56.0</td>\n",
       "    </tr>\n",
       "    <tr>\n",
       "      <th>529</th>\n",
       "      <td>10</td>\n",
       "      <td>Cuiabá</td>\n",
       "      <td>51.0</td>\n",
       "    </tr>\n",
       "    <tr>\n",
       "      <th>530</th>\n",
       "      <td>11</td>\n",
       "      <td>São Paulo</td>\n",
       "      <td>48.0</td>\n",
       "    </tr>\n",
       "    <tr>\n",
       "      <th>531</th>\n",
       "      <td>12</td>\n",
       "      <td>Internacional</td>\n",
       "      <td>46.0</td>\n",
       "    </tr>\n",
       "    <tr>\n",
       "      <th>532</th>\n",
       "      <td>13</td>\n",
       "      <td>Corinthians</td>\n",
       "      <td>46.0</td>\n",
       "    </tr>\n",
       "    <tr>\n",
       "      <th>533</th>\n",
       "      <td>14</td>\n",
       "      <td>Bahia</td>\n",
       "      <td>44.0</td>\n",
       "    </tr>\n",
       "    <tr>\n",
       "      <th>534</th>\n",
       "      <td>15</td>\n",
       "      <td>Cruzeiro</td>\n",
       "      <td>44.0</td>\n",
       "    </tr>\n",
       "    <tr>\n",
       "      <th>535</th>\n",
       "      <td>16</td>\n",
       "      <td>Vasco da Gama</td>\n",
       "      <td>42.0</td>\n",
       "    </tr>\n",
       "    <tr>\n",
       "      <th>536</th>\n",
       "      <td>17</td>\n",
       "      <td>Santos</td>\n",
       "      <td>42.0</td>\n",
       "    </tr>\n",
       "    <tr>\n",
       "      <th>537</th>\n",
       "      <td>18</td>\n",
       "      <td>Goiás</td>\n",
       "      <td>42.0</td>\n",
       "    </tr>\n",
       "    <tr>\n",
       "      <th>538</th>\n",
       "      <td>19</td>\n",
       "      <td>Coritiba</td>\n",
       "      <td>28.0</td>\n",
       "    </tr>\n",
       "    <tr>\n",
       "      <th>539</th>\n",
       "      <td>20</td>\n",
       "      <td>América</td>\n",
       "      <td>25.0</td>\n",
       "    </tr>\n",
       "  </tbody>\n",
       "</table>\n",
       "</div>"
      ],
      "text/plain": [
       "     classificacao                 time  pontos_finais\n",
       "520              1             Botafogo           82.0\n",
       "521              2  Red Bull Bragantino           69.0\n",
       "522              3             Flamengo           67.0\n",
       "523              4            Palmeiras           62.0\n",
       "524              5               Grêmio           61.0\n",
       "525              6            Athletico           61.0\n",
       "526              7             Atlético           61.0\n",
       "527              8            Fortaleza           58.0\n",
       "528              9           Fluminense           56.0\n",
       "529             10               Cuiabá           51.0\n",
       "530             11            São Paulo           48.0\n",
       "531             12        Internacional           46.0\n",
       "532             13          Corinthians           46.0\n",
       "533             14                Bahia           44.0\n",
       "534             15             Cruzeiro           44.0\n",
       "535             16        Vasco da Gama           42.0\n",
       "536             17               Santos           42.0\n",
       "537             18                Goiás           42.0\n",
       "538             19             Coritiba           28.0\n",
       "539             20              América           25.0"
      ]
     },
     "metadata": {},
     "output_type": "display_data"
    }
   ],
   "source": [
    "#projecao na rodada mais recente\n",
    "ultima_projecao = tabela_consolidada[tabela_consolidada['rodada_projecao'] == max_rodada]\n",
    "ultima_projecao = ultima_projecao[['classificacao', 'time', 'pontos_finais']]\n",
    "display(ultima_projecao)"
   ]
  }
 ],
 "metadata": {
  "kernelspec": {
   "display_name": "Python 3",
   "language": "python",
   "name": "python3"
  },
  "language_info": {
   "codemirror_mode": {
    "name": "ipython",
    "version": 3
   },
   "file_extension": ".py",
   "mimetype": "text/x-python",
   "name": "python",
   "nbconvert_exporter": "python",
   "pygments_lexer": "ipython3",
   "version": "3.10.2"
  },
  "orig_nbformat": 4,
  "vscode": {
   "interpreter": {
    "hash": "26de051ba29f2982a8de78e945f0abaf191376122a1563185a90213a26c5da77"
   }
  }
 },
 "nbformat": 4,
 "nbformat_minor": 2
}
